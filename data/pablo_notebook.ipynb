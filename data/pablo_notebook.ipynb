{
 "cells": [
  {
   "cell_type": "code",
   "execution_count": 1,
   "metadata": {
    "ExecuteTime": {
     "end_time": "2019-07-02T17:55:26.692003Z",
     "start_time": "2019-07-02T17:55:26.683671Z"
    }
   },
   "outputs": [],
   "source": [
    "import pandas as pd"
   ]
  },
  {
   "cell_type": "code",
   "execution_count": 2,
   "metadata": {
    "ExecuteTime": {
     "end_time": "2019-07-02T18:13:07.286656Z",
     "start_time": "2019-07-02T18:13:06.248938Z"
    }
   },
   "outputs": [
    {
     "name": "stderr",
     "output_type": "stream",
     "text": [
      "/anaconda3/lib/python3.7/site-packages/IPython/core/interactiveshell.py:3049: DtypeWarning: Columns (10) have mixed types. Specify dtype option on import or set low_memory=False.\n",
      "  interactivity=interactivity, compiler=compiler, result=result)\n"
     ]
    }
   ],
   "source": [
    "df=pd.read_csv(\"movies_metadata.csv\")"
   ]
  },
  {
   "cell_type": "code",
   "execution_count": 3,
   "metadata": {
    "ExecuteTime": {
     "end_time": "2019-07-02T18:13:08.004850Z",
     "start_time": "2019-07-02T18:13:07.950582Z"
    },
    "scrolled": true
   },
   "outputs": [
    {
     "data": {
      "text/html": [
       "<div>\n",
       "<style scoped>\n",
       "    .dataframe tbody tr th:only-of-type {\n",
       "        vertical-align: middle;\n",
       "    }\n",
       "\n",
       "    .dataframe tbody tr th {\n",
       "        vertical-align: top;\n",
       "    }\n",
       "\n",
       "    .dataframe thead th {\n",
       "        text-align: right;\n",
       "    }\n",
       "</style>\n",
       "<table border=\"1\" class=\"dataframe\">\n",
       "  <thead>\n",
       "    <tr style=\"text-align: right;\">\n",
       "      <th></th>\n",
       "      <th>adult</th>\n",
       "      <th>belongs_to_collection</th>\n",
       "      <th>budget</th>\n",
       "      <th>genres</th>\n",
       "      <th>homepage</th>\n",
       "      <th>id</th>\n",
       "      <th>imdb_id</th>\n",
       "      <th>original_language</th>\n",
       "      <th>original_title</th>\n",
       "      <th>overview</th>\n",
       "      <th>...</th>\n",
       "      <th>release_date</th>\n",
       "      <th>revenue</th>\n",
       "      <th>runtime</th>\n",
       "      <th>spoken_languages</th>\n",
       "      <th>status</th>\n",
       "      <th>tagline</th>\n",
       "      <th>title</th>\n",
       "      <th>video</th>\n",
       "      <th>vote_average</th>\n",
       "      <th>vote_count</th>\n",
       "    </tr>\n",
       "  </thead>\n",
       "  <tbody>\n",
       "    <tr>\n",
       "      <th>0</th>\n",
       "      <td>False</td>\n",
       "      <td>{'id': 10194, 'name': 'Toy Story Collection', ...</td>\n",
       "      <td>30000000</td>\n",
       "      <td>[{'id': 16, 'name': 'Animation'}, {'id': 35, '...</td>\n",
       "      <td>http://toystory.disney.com/toy-story</td>\n",
       "      <td>862</td>\n",
       "      <td>tt0114709</td>\n",
       "      <td>en</td>\n",
       "      <td>Toy Story</td>\n",
       "      <td>Led by Woody, Andy's toys live happily in his ...</td>\n",
       "      <td>...</td>\n",
       "      <td>1995-10-30</td>\n",
       "      <td>373554033.0</td>\n",
       "      <td>81.0</td>\n",
       "      <td>[{'iso_639_1': 'en', 'name': 'English'}]</td>\n",
       "      <td>Released</td>\n",
       "      <td>NaN</td>\n",
       "      <td>Toy Story</td>\n",
       "      <td>False</td>\n",
       "      <td>7.7</td>\n",
       "      <td>5415.0</td>\n",
       "    </tr>\n",
       "    <tr>\n",
       "      <th>1</th>\n",
       "      <td>False</td>\n",
       "      <td>NaN</td>\n",
       "      <td>65000000</td>\n",
       "      <td>[{'id': 12, 'name': 'Adventure'}, {'id': 14, '...</td>\n",
       "      <td>NaN</td>\n",
       "      <td>8844</td>\n",
       "      <td>tt0113497</td>\n",
       "      <td>en</td>\n",
       "      <td>Jumanji</td>\n",
       "      <td>When siblings Judy and Peter discover an encha...</td>\n",
       "      <td>...</td>\n",
       "      <td>1995-12-15</td>\n",
       "      <td>262797249.0</td>\n",
       "      <td>104.0</td>\n",
       "      <td>[{'iso_639_1': 'en', 'name': 'English'}, {'iso...</td>\n",
       "      <td>Released</td>\n",
       "      <td>Roll the dice and unleash the excitement!</td>\n",
       "      <td>Jumanji</td>\n",
       "      <td>False</td>\n",
       "      <td>6.9</td>\n",
       "      <td>2413.0</td>\n",
       "    </tr>\n",
       "    <tr>\n",
       "      <th>2</th>\n",
       "      <td>False</td>\n",
       "      <td>{'id': 119050, 'name': 'Grumpy Old Men Collect...</td>\n",
       "      <td>0</td>\n",
       "      <td>[{'id': 10749, 'name': 'Romance'}, {'id': 35, ...</td>\n",
       "      <td>NaN</td>\n",
       "      <td>15602</td>\n",
       "      <td>tt0113228</td>\n",
       "      <td>en</td>\n",
       "      <td>Grumpier Old Men</td>\n",
       "      <td>A family wedding reignites the ancient feud be...</td>\n",
       "      <td>...</td>\n",
       "      <td>1995-12-22</td>\n",
       "      <td>0.0</td>\n",
       "      <td>101.0</td>\n",
       "      <td>[{'iso_639_1': 'en', 'name': 'English'}]</td>\n",
       "      <td>Released</td>\n",
       "      <td>Still Yelling. Still Fighting. Still Ready for...</td>\n",
       "      <td>Grumpier Old Men</td>\n",
       "      <td>False</td>\n",
       "      <td>6.5</td>\n",
       "      <td>92.0</td>\n",
       "    </tr>\n",
       "    <tr>\n",
       "      <th>3</th>\n",
       "      <td>False</td>\n",
       "      <td>NaN</td>\n",
       "      <td>16000000</td>\n",
       "      <td>[{'id': 35, 'name': 'Comedy'}, {'id': 18, 'nam...</td>\n",
       "      <td>NaN</td>\n",
       "      <td>31357</td>\n",
       "      <td>tt0114885</td>\n",
       "      <td>en</td>\n",
       "      <td>Waiting to Exhale</td>\n",
       "      <td>Cheated on, mistreated and stepped on, the wom...</td>\n",
       "      <td>...</td>\n",
       "      <td>1995-12-22</td>\n",
       "      <td>81452156.0</td>\n",
       "      <td>127.0</td>\n",
       "      <td>[{'iso_639_1': 'en', 'name': 'English'}]</td>\n",
       "      <td>Released</td>\n",
       "      <td>Friends are the people who let you be yourself...</td>\n",
       "      <td>Waiting to Exhale</td>\n",
       "      <td>False</td>\n",
       "      <td>6.1</td>\n",
       "      <td>34.0</td>\n",
       "    </tr>\n",
       "    <tr>\n",
       "      <th>4</th>\n",
       "      <td>False</td>\n",
       "      <td>{'id': 96871, 'name': 'Father of the Bride Col...</td>\n",
       "      <td>0</td>\n",
       "      <td>[{'id': 35, 'name': 'Comedy'}]</td>\n",
       "      <td>NaN</td>\n",
       "      <td>11862</td>\n",
       "      <td>tt0113041</td>\n",
       "      <td>en</td>\n",
       "      <td>Father of the Bride Part II</td>\n",
       "      <td>Just when George Banks has recovered from his ...</td>\n",
       "      <td>...</td>\n",
       "      <td>1995-02-10</td>\n",
       "      <td>76578911.0</td>\n",
       "      <td>106.0</td>\n",
       "      <td>[{'iso_639_1': 'en', 'name': 'English'}]</td>\n",
       "      <td>Released</td>\n",
       "      <td>Just When His World Is Back To Normal... He's ...</td>\n",
       "      <td>Father of the Bride Part II</td>\n",
       "      <td>False</td>\n",
       "      <td>5.7</td>\n",
       "      <td>173.0</td>\n",
       "    </tr>\n",
       "  </tbody>\n",
       "</table>\n",
       "<p>5 rows × 24 columns</p>\n",
       "</div>"
      ],
      "text/plain": [
       "   adult                              belongs_to_collection    budget  \\\n",
       "0  False  {'id': 10194, 'name': 'Toy Story Collection', ...  30000000   \n",
       "1  False                                                NaN  65000000   \n",
       "2  False  {'id': 119050, 'name': 'Grumpy Old Men Collect...         0   \n",
       "3  False                                                NaN  16000000   \n",
       "4  False  {'id': 96871, 'name': 'Father of the Bride Col...         0   \n",
       "\n",
       "                                              genres  \\\n",
       "0  [{'id': 16, 'name': 'Animation'}, {'id': 35, '...   \n",
       "1  [{'id': 12, 'name': 'Adventure'}, {'id': 14, '...   \n",
       "2  [{'id': 10749, 'name': 'Romance'}, {'id': 35, ...   \n",
       "3  [{'id': 35, 'name': 'Comedy'}, {'id': 18, 'nam...   \n",
       "4                     [{'id': 35, 'name': 'Comedy'}]   \n",
       "\n",
       "                               homepage     id    imdb_id original_language  \\\n",
       "0  http://toystory.disney.com/toy-story    862  tt0114709                en   \n",
       "1                                   NaN   8844  tt0113497                en   \n",
       "2                                   NaN  15602  tt0113228                en   \n",
       "3                                   NaN  31357  tt0114885                en   \n",
       "4                                   NaN  11862  tt0113041                en   \n",
       "\n",
       "                original_title  \\\n",
       "0                    Toy Story   \n",
       "1                      Jumanji   \n",
       "2             Grumpier Old Men   \n",
       "3            Waiting to Exhale   \n",
       "4  Father of the Bride Part II   \n",
       "\n",
       "                                            overview  ... release_date  \\\n",
       "0  Led by Woody, Andy's toys live happily in his ...  ...   1995-10-30   \n",
       "1  When siblings Judy and Peter discover an encha...  ...   1995-12-15   \n",
       "2  A family wedding reignites the ancient feud be...  ...   1995-12-22   \n",
       "3  Cheated on, mistreated and stepped on, the wom...  ...   1995-12-22   \n",
       "4  Just when George Banks has recovered from his ...  ...   1995-02-10   \n",
       "\n",
       "       revenue runtime                                   spoken_languages  \\\n",
       "0  373554033.0    81.0           [{'iso_639_1': 'en', 'name': 'English'}]   \n",
       "1  262797249.0   104.0  [{'iso_639_1': 'en', 'name': 'English'}, {'iso...   \n",
       "2          0.0   101.0           [{'iso_639_1': 'en', 'name': 'English'}]   \n",
       "3   81452156.0   127.0           [{'iso_639_1': 'en', 'name': 'English'}]   \n",
       "4   76578911.0   106.0           [{'iso_639_1': 'en', 'name': 'English'}]   \n",
       "\n",
       "     status                                            tagline  \\\n",
       "0  Released                                                NaN   \n",
       "1  Released          Roll the dice and unleash the excitement!   \n",
       "2  Released  Still Yelling. Still Fighting. Still Ready for...   \n",
       "3  Released  Friends are the people who let you be yourself...   \n",
       "4  Released  Just When His World Is Back To Normal... He's ...   \n",
       "\n",
       "                         title  video vote_average vote_count  \n",
       "0                    Toy Story  False          7.7     5415.0  \n",
       "1                      Jumanji  False          6.9     2413.0  \n",
       "2             Grumpier Old Men  False          6.5       92.0  \n",
       "3            Waiting to Exhale  False          6.1       34.0  \n",
       "4  Father of the Bride Part II  False          5.7      173.0  \n",
       "\n",
       "[5 rows x 24 columns]"
      ]
     },
     "execution_count": 3,
     "metadata": {},
     "output_type": "execute_result"
    }
   ],
   "source": [
    "df.head()"
   ]
  },
  {
   "cell_type": "code",
   "execution_count": 4,
   "metadata": {
    "ExecuteTime": {
     "end_time": "2019-07-02T21:14:49.369766Z",
     "start_time": "2019-07-02T21:14:48.122388Z"
    }
   },
   "outputs": [
    {
     "name": "stderr",
     "output_type": "stream",
     "text": [
      "/anaconda3/lib/python3.7/site-packages/IPython/core/interactiveshell.py:3049: DtypeWarning: Columns (7) have mixed types. Specify dtype option on import or set low_memory=False.\n",
      "  interactivity=interactivity, compiler=compiler, result=result)\n"
     ]
    }
   ],
   "source": [
    "import pandas as pd\n",
    "\n",
    "user_ratings=pd.read_csv(\"user_ratings.csv\")"
   ]
  },
  {
   "cell_type": "code",
   "execution_count": 5,
   "metadata": {
    "ExecuteTime": {
     "end_time": "2019-07-02T21:14:50.699479Z",
     "start_time": "2019-07-02T21:14:50.618411Z"
    }
   },
   "outputs": [],
   "source": [
    "user_ratings.drop([\"Unnamed: 0\",\"user_id\"], axis=1, inplace=True)"
   ]
  },
  {
   "cell_type": "code",
   "execution_count": 6,
   "metadata": {
    "ExecuteTime": {
     "end_time": "2019-07-02T21:14:52.283717Z",
     "start_time": "2019-07-02T21:14:52.264363Z"
    }
   },
   "outputs": [
    {
     "data": {
      "text/html": [
       "<div>\n",
       "<style scoped>\n",
       "    .dataframe tbody tr th:only-of-type {\n",
       "        vertical-align: middle;\n",
       "    }\n",
       "\n",
       "    .dataframe tbody tr th {\n",
       "        vertical-align: top;\n",
       "    }\n",
       "\n",
       "    .dataframe thead th {\n",
       "        text-align: right;\n",
       "    }\n",
       "</style>\n",
       "<table border=\"1\" class=\"dataframe\">\n",
       "  <thead>\n",
       "    <tr style=\"text-align: right;\">\n",
       "      <th></th>\n",
       "      <th>UserID</th>\n",
       "      <th>Gender</th>\n",
       "      <th>Age</th>\n",
       "      <th>Occupation</th>\n",
       "      <th>Zip-code</th>\n",
       "      <th>movie_id</th>\n",
       "      <th>rating</th>\n",
       "      <th>timestamp</th>\n",
       "    </tr>\n",
       "  </thead>\n",
       "  <tbody>\n",
       "    <tr>\n",
       "      <th>0</th>\n",
       "      <td>635</td>\n",
       "      <td>M</td>\n",
       "      <td>56</td>\n",
       "      <td>17</td>\n",
       "      <td>33785</td>\n",
       "      <td>862</td>\n",
       "      <td>5</td>\n",
       "      <td>975739061</td>\n",
       "    </tr>\n",
       "    <tr>\n",
       "      <th>1</th>\n",
       "      <td>635</td>\n",
       "      <td>M</td>\n",
       "      <td>56</td>\n",
       "      <td>17</td>\n",
       "      <td>33785</td>\n",
       "      <td>8844</td>\n",
       "      <td>5</td>\n",
       "      <td>975739061</td>\n",
       "    </tr>\n",
       "    <tr>\n",
       "      <th>2</th>\n",
       "      <td>635</td>\n",
       "      <td>M</td>\n",
       "      <td>56</td>\n",
       "      <td>17</td>\n",
       "      <td>33785</td>\n",
       "      <td>15602</td>\n",
       "      <td>4</td>\n",
       "      <td>975739111</td>\n",
       "    </tr>\n",
       "    <tr>\n",
       "      <th>3</th>\n",
       "      <td>635</td>\n",
       "      <td>M</td>\n",
       "      <td>56</td>\n",
       "      <td>17</td>\n",
       "      <td>33785</td>\n",
       "      <td>31357</td>\n",
       "      <td>4</td>\n",
       "      <td>975739111</td>\n",
       "    </tr>\n",
       "    <tr>\n",
       "      <th>4</th>\n",
       "      <td>635</td>\n",
       "      <td>M</td>\n",
       "      <td>56</td>\n",
       "      <td>17</td>\n",
       "      <td>33785</td>\n",
       "      <td>11862</td>\n",
       "      <td>5</td>\n",
       "      <td>975739306</td>\n",
       "    </tr>\n",
       "  </tbody>\n",
       "</table>\n",
       "</div>"
      ],
      "text/plain": [
       "   UserID Gender  Age  Occupation Zip-code movie_id  rating  timestamp\n",
       "0     635      M   56          17    33785      862       5  975739061\n",
       "1     635      M   56          17    33785     8844       5  975739061\n",
       "2     635      M   56          17    33785    15602       4  975739111\n",
       "3     635      M   56          17    33785    31357       4  975739111\n",
       "4     635      M   56          17    33785    11862       5  975739306"
      ]
     },
     "execution_count": 6,
     "metadata": {},
     "output_type": "execute_result"
    }
   ],
   "source": [
    "user_ratings.head()"
   ]
  },
  {
   "cell_type": "code",
   "execution_count": 7,
   "metadata": {
    "ExecuteTime": {
     "end_time": "2019-07-02T21:19:21.312471Z",
     "start_time": "2019-07-02T21:19:21.139399Z"
    }
   },
   "outputs": [],
   "source": [
    "user_ratings=pd.get_dummies(user_ratings, columns=[\"Gender\"], drop_first=True)"
   ]
  },
  {
   "cell_type": "code",
   "execution_count": 48,
   "metadata": {
    "ExecuteTime": {
     "end_time": "2019-07-02T21:19:32.783509Z",
     "start_time": "2019-07-02T21:19:32.765433Z"
    }
   },
   "outputs": [],
   "source": [
    "user_ratings['Zip-code']=user_ratings[\"Zip-code\"].apply(lambda x: x[:5])\n",
    "user_ratings[\"Zip-code\"]=user_ratings[\"Zip-code\"].astype(int)"
   ]
  },
  {
   "cell_type": "code",
   "execution_count": 67,
   "metadata": {},
   "outputs": [],
   "source": [
    "user_ratings.movie_id = user_ratings.movie_id.str.extract('(\\d+)', expand=False)"
   ]
  },
  {
   "cell_type": "code",
   "execution_count": 73,
   "metadata": {},
   "outputs": [],
   "source": [
    "user_ratings = user_ratings.dropna()"
   ]
  },
  {
   "cell_type": "code",
   "execution_count": 74,
   "metadata": {},
   "outputs": [
    {
     "data": {
      "text/plain": [
       "0           862\n",
       "1          8844\n",
       "2         15602\n",
       "3         31357\n",
       "4         11862\n",
       "5           949\n",
       "6         11860\n",
       "7         45325\n",
       "8          9091\n",
       "9           710\n",
       "10         9087\n",
       "11        12110\n",
       "12        21032\n",
       "13        10858\n",
       "14         1408\n",
       "15          524\n",
       "16         4584\n",
       "17            5\n",
       "18         9273\n",
       "19        11517\n",
       "20         8012\n",
       "21         1710\n",
       "22         9691\n",
       "23        12665\n",
       "24          451\n",
       "25        16420\n",
       "26         9263\n",
       "27        17015\n",
       "28          902\n",
       "29        37557\n",
       "          ...  \n",
       "45436     45527\n",
       "45437    455661\n",
       "45438    327237\n",
       "45439     84710\n",
       "45440     39562\n",
       "45441     14008\n",
       "45442     44330\n",
       "45443     49279\n",
       "45444     44333\n",
       "45445     49277\n",
       "45446     49271\n",
       "45447     44324\n",
       "45448    122036\n",
       "45449     14885\n",
       "45450     49280\n",
       "45451    106807\n",
       "45452    276895\n",
       "45453    404604\n",
       "45454    420346\n",
       "45455     67179\n",
       "45456     84419\n",
       "45457    390959\n",
       "45458    289923\n",
       "45459    222848\n",
       "45460     30840\n",
       "45461    439050\n",
       "45462    111109\n",
       "45463     67758\n",
       "45464    227506\n",
       "45465    461257\n",
       "Name: movie_id, Length: 45466, dtype: int64"
      ]
     },
     "execution_count": 74,
     "metadata": {},
     "output_type": "execute_result"
    }
   ],
   "source": [
    "user_ratings.movie_id.astype(int)"
   ]
  },
  {
   "cell_type": "code",
   "execution_count": 26,
   "metadata": {
    "ExecuteTime": {
     "end_time": "2019-07-02T20:52:18.753535Z",
     "start_time": "2019-07-02T20:52:18.610832Z"
    }
   },
   "outputs": [
    {
     "name": "stdout",
     "output_type": "stream",
     "text": [
      "PYTHONPATH=/usr/local/Cellar/apache-spark/2.4.3/libexec/python:/usr/local/Cellar/apache-spark/2.4.3/libexec/python:/usr/local/Cellar/apache-spark/2.4.3/libexec/python:\r\n"
     ]
    }
   ],
   "source": [
    "!env | grep PYTHONPATH"
   ]
  },
  {
   "cell_type": "code",
   "execution_count": 27,
   "metadata": {
    "ExecuteTime": {
     "end_time": "2019-07-02T20:52:19.229048Z",
     "start_time": "2019-07-02T20:52:19.220617Z"
    }
   },
   "outputs": [],
   "source": [
    "import pyspark\n",
    "\n",
    "spark = (pyspark.sql.SparkSession.builder \n",
    "  .master(\"local[*]\")\n",
    "  .getOrCreate())"
   ]
  },
  {
   "cell_type": "code",
   "execution_count": 30,
   "metadata": {
    "ExecuteTime": {
     "end_time": "2019-07-02T20:52:42.778183Z",
     "start_time": "2019-07-02T20:52:42.644793Z"
    }
   },
   "outputs": [
    {
     "name": "stdout",
     "output_type": "stream",
     "text": [
      "LICENSE          movies.dat       requests.json    users.dat\r\n",
      "README           ratings.json     user_ratings.csv\r\n"
     ]
    }
   ],
   "source": [
    "!ls data/"
   ]
  },
  {
   "cell_type": "code",
   "execution_count": 31,
   "metadata": {
    "ExecuteTime": {
     "end_time": "2019-07-02T20:52:54.248534Z",
     "start_time": "2019-07-02T20:52:54.056959Z"
    }
   },
   "outputs": [
    {
     "name": "stdout",
     "output_type": "stream",
     "text": [
      "data/user_ratings.csv: ASCII text\r\n"
     ]
    }
   ],
   "source": [
    "!file data/user_ratings.csv"
   ]
  },
  {
   "cell_type": "code",
   "execution_count": 33,
   "metadata": {
    "ExecuteTime": {
     "end_time": "2019-07-02T20:53:01.599943Z",
     "start_time": "2019-07-02T20:53:01.462097Z"
    }
   },
   "outputs": [
    {
     "name": "stdout",
     "output_type": "stream",
     "text": [
      ",UserID,Gender,Age,Occupation,Zip-code,user_id,movie_id,rating,timestamp\r\n",
      "0,635,M,56,17,33785,635,2294,5,975739061\r\n",
      "1,635,M,56,17,33785,635,480,5,975739061\r\n",
      "2,635,M,56,17,33785,635,3614,4,975739111\r\n",
      "3,635,M,56,17,33785,635,920,4,975739111\r\n",
      "4,635,M,56,17,33785,635,3528,5,975739306\r\n",
      "5,635,M,56,17,33785,635,1270,4,975739306\r\n",
      "6,635,M,56,17,33785,635,1286,4,975739306\r\n",
      "7,635,M,56,17,33785,635,3948,4,975739494\r\n",
      "8,635,M,56,17,33785,635,3720,5,975739538\r\n"
     ]
    }
   ],
   "source": [
    "!head data/user_ratings.csv"
   ]
  },
  {
   "cell_type": "code",
   "execution_count": null,
   "metadata": {
    "ExecuteTime": {
     "end_time": "2019-07-02T18:21:03.045518Z",
     "start_time": "2019-07-02T18:21:03.023834Z"
    }
   },
   "outputs": [],
   "source": []
  },
  {
   "cell_type": "code",
   "execution_count": 35,
   "metadata": {
    "ExecuteTime": {
     "end_time": "2019-07-02T20:53:19.218648Z",
     "start_time": "2019-07-02T20:53:17.219810Z"
    }
   },
   "outputs": [],
   "source": [
    "# read in the dataset into pyspark DataFrame\n",
    "movie_ratings = spark.read.csv('data/user_ratings.csv',\n",
    "                               inferSchema=True,\n",
    "                               header=True)"
   ]
  },
  {
   "cell_type": "code",
   "execution_count": 36,
   "metadata": {
    "ExecuteTime": {
     "end_time": "2019-07-02T20:53:20.179397Z",
     "start_time": "2019-07-02T20:53:20.171150Z"
    }
   },
   "outputs": [
    {
     "name": "stdout",
     "output_type": "stream",
     "text": [
      "root\n",
      " |-- _c0: integer (nullable = true)\n",
      " |-- UserID: integer (nullable = true)\n",
      " |-- Gender: string (nullable = true)\n",
      " |-- Age: integer (nullable = true)\n",
      " |-- Occupation: integer (nullable = true)\n",
      " |-- Zip-code: string (nullable = true)\n",
      " |-- user_id: integer (nullable = true)\n",
      " |-- movie_id: integer (nullable = true)\n",
      " |-- rating: integer (nullable = true)\n",
      " |-- timestamp: integer (nullable = true)\n",
      "\n"
     ]
    }
   ],
   "source": [
    "movie_ratings.printSchema()"
   ]
  },
  {
   "cell_type": "code",
   "execution_count": 37,
   "metadata": {
    "ExecuteTime": {
     "end_time": "2019-07-02T20:53:22.743226Z",
     "start_time": "2019-07-02T20:53:22.733282Z"
    }
   },
   "outputs": [],
   "source": [
    "from pyspark.sql.types import (\n",
    "    ArrayType,\n",
    "    AtomicType,\n",
    "    BinaryType,\n",
    "    BooleanType,\n",
    "    ByteType,\n",
    "    CloudPickleSerializer,\n",
    "    DataType,\n",
    "    DataTypeSingleton,\n",
    "    DateConverter,\n",
    "    DateType,\n",
    "    DatetimeConverter,\n",
    "    DecimalType,\n",
    "    DoubleType,\n",
    "    FloatType,\n",
    "    FractionalType,\n",
    "    IntegerType,\n",
    "    IntegralType,\n",
    "    JavaClass,\n",
    "    LongType,\n",
    "    MapType,\n",
    "    NullType,\n",
    "    NumericType,\n",
    "    Row,\n",
    "    ShortType,\n",
    "    SparkContext,\n",
    "    StringType,\n",
    "    StructField,\n",
    "    StructType,\n",
    "    TimestampType,\n",
    "    UserDefinedType,\n",
    ")"
   ]
  },
  {
   "cell_type": "code",
   "execution_count": 38,
   "metadata": {
    "ExecuteTime": {
     "end_time": "2019-07-02T20:53:23.445269Z",
     "start_time": "2019-07-02T20:53:23.439374Z"
    }
   },
   "outputs": [],
   "source": [
    "schema = StructType(\n",
    "    [\n",
    "        StructField('user_id', IntegerType()),\n",
    "        StructField('movie_id', IntegerType()),\n",
    "        StructField('rating', FloatType()),\n",
    "        StructField('timestamp', LongType()),\n",
    "    ]\n",
    ")"
   ]
  },
  {
   "cell_type": "code",
   "execution_count": 39,
   "metadata": {
    "ExecuteTime": {
     "end_time": "2019-07-02T20:53:24.103939Z",
     "start_time": "2019-07-02T20:53:24.099410Z"
    }
   },
   "outputs": [],
   "source": [
    "# # read in the dataset into pyspark DataFrame\n",
    "# movie_ratings = spark.read.csv('data/ratings.json',\n",
    "#                                inferSchema=False,\n",
    "#                                schema=schema,\n",
    "#                                header=True)"
   ]
  },
  {
   "cell_type": "code",
   "execution_count": 40,
   "metadata": {
    "ExecuteTime": {
     "end_time": "2019-07-02T20:53:24.659065Z",
     "start_time": "2019-07-02T20:53:24.587188Z"
    }
   },
   "outputs": [
    {
     "data": {
      "text/plain": [
       "DataFrame[_c0: int, UserID: int, Gender: string, Age: int, Occupation: int, Zip-code: string, user_id: int, movie_id: int, rating: int, timestamp: int]"
      ]
     },
     "execution_count": 40,
     "metadata": {},
     "output_type": "execute_result"
    }
   ],
   "source": [
    "movie_ratings.persist()"
   ]
  },
  {
   "cell_type": "code",
   "execution_count": 41,
   "metadata": {
    "ExecuteTime": {
     "end_time": "2019-07-02T20:53:27.892397Z",
     "start_time": "2019-07-02T20:53:25.584753Z"
    }
   },
   "outputs": [
    {
     "name": "stdout",
     "output_type": "stream",
     "text": [
      "+---+------+------+---+----------+--------+-------+--------+------+---------+\n",
      "|_c0|UserID|Gender|Age|Occupation|Zip-code|user_id|movie_id|rating|timestamp|\n",
      "+---+------+------+---+----------+--------+-------+--------+------+---------+\n",
      "|  0|   635|     M| 56|        17|   33785|    635|    2294|     5|975739061|\n",
      "|  1|   635|     M| 56|        17|   33785|    635|     480|     5|975739061|\n",
      "|  2|   635|     M| 56|        17|   33785|    635|    3614|     4|975739111|\n",
      "|  3|   635|     M| 56|        17|   33785|    635|     920|     4|975739111|\n",
      "|  4|   635|     M| 56|        17|   33785|    635|    3528|     5|975739306|\n",
      "+---+------+------+---+----------+--------+-------+--------+------+---------+\n",
      "only showing top 5 rows\n",
      "\n"
     ]
    }
   ],
   "source": [
    "movie_ratings.show(5)"
   ]
  },
  {
   "cell_type": "code",
   "execution_count": null,
   "metadata": {
    "ExecuteTime": {
     "end_time": "2019-07-02T20:53:27.955423Z",
     "start_time": "2019-07-02T20:53:27.465Z"
    }
   },
   "outputs": [],
   "source": [
    "# movie_ratings = movie_ratings.drop(\"timestamp\")\n",
    "# movie_ratings.drop(movie_ratings.col(\"timestamp\"))\n",
    "\n",
    "\n",
    "df_final = movie_ratings.drop(\"timestamp\")"
   ]
  },
  {
   "cell_type": "code",
   "execution_count": 42,
   "metadata": {
    "ExecuteTime": {
     "end_time": "2019-07-02T20:53:29.374791Z",
     "start_time": "2019-07-02T20:53:29.231268Z"
    }
   },
   "outputs": [
    {
     "name": "stdout",
     "output_type": "stream",
     "text": [
      "+---+------+------+---+----------+--------+-------+--------+------+---------+\n",
      "|_c0|UserID|Gender|Age|Occupation|Zip-code|user_id|movie_id|rating|timestamp|\n",
      "+---+------+------+---+----------+--------+-------+--------+------+---------+\n",
      "|  0|   635|     M| 56|        17|   33785|    635|    2294|     5|975739061|\n",
      "|  1|   635|     M| 56|        17|   33785|    635|     480|     5|975739061|\n",
      "|  2|   635|     M| 56|        17|   33785|    635|    3614|     4|975739111|\n",
      "|  3|   635|     M| 56|        17|   33785|    635|     920|     4|975739111|\n",
      "|  4|   635|     M| 56|        17|   33785|    635|    3528|     5|975739306|\n",
      "|  5|   635|     M| 56|        17|   33785|    635|    1270|     4|975739306|\n",
      "|  6|   635|     M| 56|        17|   33785|    635|    1286|     4|975739306|\n",
      "|  7|   635|     M| 56|        17|   33785|    635|    3948|     4|975739494|\n",
      "|  8|   635|     M| 56|        17|   33785|    635|    3720|     5|975739538|\n",
      "|  9|   635|     M| 56|        17|   33785|    635|    3751|     5|975739571|\n",
      "| 10|   635|     M| 56|        17|   33785|    635|    2686|     5|975739614|\n",
      "| 11|   635|     M| 56|        17|   33785|    635|    3916|     3|975739640|\n",
      "| 12|   635|     M| 56|        17|   33785|    635|    3067|     4|975739720|\n",
      "| 13|   635|     M| 56|        17|   33785|    635|    1279|     5|975739720|\n",
      "| 14|   635|     M| 56|        17|   33785|    635|    1217|     4|975739720|\n",
      "+---+------+------+---+----------+--------+-------+--------+------+---------+\n",
      "only showing top 15 rows\n",
      "\n"
     ]
    }
   ],
   "source": [
    "movie_ratings.show(15)"
   ]
  },
  {
   "cell_type": "code",
   "execution_count": 43,
   "metadata": {
    "ExecuteTime": {
     "end_time": "2019-07-02T20:53:29.921222Z",
     "start_time": "2019-07-02T20:53:29.903592Z"
    }
   },
   "outputs": [],
   "source": [
    "(trainingdata, testdata) = movie_ratings.randomSplit([0.7,0.3], seed=10)"
   ]
  },
  {
   "cell_type": "code",
   "execution_count": 44,
   "metadata": {
    "ExecuteTime": {
     "end_time": "2019-07-02T20:53:30.495890Z",
     "start_time": "2019-07-02T20:53:30.416515Z"
    }
   },
   "outputs": [],
   "source": [
    "from pyspark.ml.evaluation import RegressionEvaluator\n",
    "from pyspark.ml.recommendation import ALS, ALSModel\n",
    "\n",
    "als = ALS(\n",
    "    rank=10,\n",
    "    maxIter=10,\n",
    "    userCol=\"user_id\",\n",
    "    itemCol=\"movie_id\",\n",
    "    ratingCol=\"rating\",\n",
    ")"
   ]
  },
  {
   "cell_type": "code",
   "execution_count": 45,
   "metadata": {
    "ExecuteTime": {
     "end_time": "2019-07-02T20:53:43.294769Z",
     "start_time": "2019-07-02T20:53:31.454063Z"
    }
   },
   "outputs": [],
   "source": [
    "als_model = als.fit(trainingdata)"
   ]
  },
  {
   "cell_type": "code",
   "execution_count": 46,
   "metadata": {
    "ExecuteTime": {
     "end_time": "2019-07-02T20:54:05.624221Z",
     "start_time": "2019-07-02T20:54:05.559648Z"
    }
   },
   "outputs": [],
   "source": [
    "predictions = als_model.transform(testdata)"
   ]
  },
  {
   "cell_type": "code",
   "execution_count": 47,
   "metadata": {
    "ExecuteTime": {
     "end_time": "2019-07-02T20:54:15.801742Z",
     "start_time": "2019-07-02T20:54:15.599537Z"
    }
   },
   "outputs": [
    {
     "data": {
      "text/plain": [
       "DataFrame[_c0: int, UserID: int, Gender: string, Age: int, Occupation: int, Zip-code: string, user_id: int, movie_id: int, rating: int, timestamp: int, prediction: float]"
      ]
     },
     "execution_count": 47,
     "metadata": {},
     "output_type": "execute_result"
    }
   ],
   "source": [
    "predictions.persist()"
   ]
  },
  {
   "cell_type": "code",
   "execution_count": 48,
   "metadata": {
    "ExecuteTime": {
     "end_time": "2019-07-02T20:54:23.118160Z",
     "start_time": "2019-07-02T20:54:22.999358Z"
    }
   },
   "outputs": [
    {
     "name": "stdout",
     "output_type": "stream",
     "text": [
      "+---+------+------+---+----------+--------+-------+--------+------+---------+\n",
      "|_c0|UserID|Gender|Age|Occupation|Zip-code|user_id|movie_id|rating|timestamp|\n",
      "+---+------+------+---+----------+--------+-------+--------+------+---------+\n",
      "|  0|   635|     M| 56|        17|   33785|    635|    2294|     5|975739061|\n",
      "+---+------+------+---+----------+--------+-------+--------+------+---------+\n",
      "only showing top 1 row\n",
      "\n"
     ]
    }
   ],
   "source": [
    "movie_ratings.show(1)"
   ]
  },
  {
   "cell_type": "code",
   "execution_count": 49,
   "metadata": {
    "ExecuteTime": {
     "end_time": "2019-07-02T20:54:34.783255Z",
     "start_time": "2019-07-02T20:54:34.775950Z"
    }
   },
   "outputs": [],
   "source": [
    "user_factors = als_model.userFactors"
   ]
  },
  {
   "cell_type": "code",
   "execution_count": 50,
   "metadata": {
    "ExecuteTime": {
     "end_time": "2019-07-02T20:54:43.039115Z",
     "start_time": "2019-07-02T20:54:43.027863Z"
    }
   },
   "outputs": [
    {
     "data": {
      "text/plain": [
       "DataFrame[id: int, features: array<float>]"
      ]
     },
     "execution_count": 50,
     "metadata": {},
     "output_type": "execute_result"
    }
   ],
   "source": [
    "user_factors"
   ]
  },
  {
   "cell_type": "code",
   "execution_count": 51,
   "metadata": {
    "ExecuteTime": {
     "end_time": "2019-07-02T20:54:52.630727Z",
     "start_time": "2019-07-02T20:54:52.624537Z"
    }
   },
   "outputs": [],
   "source": [
    "item_factors = als_model.itemFactors"
   ]
  },
  {
   "cell_type": "code",
   "execution_count": 66,
   "metadata": {
    "ExecuteTime": {
     "end_time": "2019-07-02T21:12:34.007915Z",
     "start_time": "2019-07-02T21:12:33.669091Z"
    }
   },
   "outputs": [
    {
     "name": "stdout",
     "output_type": "stream",
     "text": [
      "+---+--------------------+\n",
      "| id|            features|\n",
      "+---+--------------------+\n",
      "| 10|[0.45390868, 0.81...|\n",
      "| 20|[0.40685117, 0.52...|\n",
      "| 30|[-0.50048876, 1.3...|\n",
      "| 40|[-0.49078494, 1.2...|\n",
      "+---+--------------------+\n",
      "only showing top 4 rows\n",
      "\n"
     ]
    }
   ],
   "source": [
    "item_factors.show(4)"
   ]
  },
  {
   "cell_type": "code",
   "execution_count": 76,
   "metadata": {
    "ExecuteTime": {
     "end_time": "2019-07-02T21:19:42.845050Z",
     "start_time": "2019-07-02T21:19:41.511738Z"
    }
   },
   "outputs": [],
   "source": [
    "from sklearn.ensemble import RandomForestClassifier\n",
    "# from sklearn.preprocessing import train_test_split\n",
    "from sklearn.model_selection import train_test_split\n",
    "\n",
    "X = user_ratings.drop([\"rating\"], axis=1)\n",
    "y = user_ratings[\"rating\"]\n",
    "\n",
    "X_train, X_test, y_train, y_test = train_test_split(X, y, test_size=0.33, random_state=142, stratify = y)\n",
    "\n",
    "forest_amount = RandomForestClassifier(n_estimators=30, max_depth= 9)\n",
    "forest_amount.fit(X_train, y_train)\n",
    "forest_amount.score(X_train, y_train) # Accuracy of training data\n",
    "forest_amount.score(X_test, y_test) # Accuracy of test data\n",
    "\n",
    "# plot_feature_importances(forest_amount) # plot using function above\n",
    "def plot_feature_importances(model):\n",
    "   '''plots the importance of each feature.  Useful for something like KNN so you can tell which features are useful '''\n",
    "   n_features = X_train.shape[1]\n",
    "   plt.figure(figsize=(8,8))\n",
    "   plt.barh(range(n_features), model.feature_importances_, align='center')\n",
    "   plt.yticks(np.arange(n_features), X_train.columns.values)\n",
    "   plt.xlabel(\"Feature importance\")\n",
    "   plt.ylabel(\"Feature\")"
   ]
  },
  {
   "cell_type": "code",
   "execution_count": 79,
   "metadata": {},
   "outputs": [
    {
     "data": {
      "image/png": "[encoded data removed]",
      "text/plain": [
       "<Figure size 576x576 with 1 Axes>"
      ]
     },
     "metadata": {
      "needs_background": "light"
     },
     "output_type": "display_data"
    }
   ],
   "source": [
    "import numpy as np\n",
    "import matplotlib.pyplot as plt\n",
    "%matplotlib inline\n",
    "plot_feature_importances(forest_amount)"
   ]
  },
  {
   "cell_type": "code",
   "execution_count": 82,
   "metadata": {},
   "outputs": [
    {
     "name": "stdout",
     "output_type": "stream",
     "text": [
      "Train Forest Score:  0.4360843017530037\n",
      "Test Forest Score: 0.3942282058117835\n"
     ]
    }
   ],
   "source": [
    "print('Train Forest Score: ', forest_amount.score(X_train, y_train)) # Accuracy of training data\n",
    "print('Test Forest Score:', forest_amount.score(X_test, y_test))"
   ]
  },
  {
   "cell_type": "code",
   "execution_count": 83,
   "metadata": {},
   "outputs": [],
   "source": [
    "forest_pred = forest_amount.predict(X_test)\n"
   ]
  },
  {
   "cell_type": "code",
   "execution_count": 85,
   "metadata": {},
   "outputs": [
    {
     "name": "stdout",
     "output_type": "stream",
     "text": [
      "[[  86   43  160  545   60]\n",
      " [  68   78  394 1094   55]\n",
      " [  47   52  757 2973  142]\n",
      " [  15   15  449 4529  231]\n",
      " [  20    7  160 2559  465]]\n",
      "/n\n",
      "              precision    recall  f1-score   support\n",
      "\n",
      "           1       0.36      0.10      0.15       894\n",
      "           2       0.40      0.05      0.08      1689\n",
      "           3       0.39      0.19      0.26      3971\n",
      "           4       0.39      0.86      0.53      5239\n",
      "           5       0.49      0.14      0.22      3211\n",
      "\n",
      "    accuracy                           0.39     15004\n",
      "   macro avg       0.41      0.27      0.25     15004\n",
      "weighted avg       0.41      0.39      0.32     15004\n",
      "\n"
     ]
    }
   ],
   "source": [
    "from sklearn.metrics import confusion_matrix, classification_report\n",
    "print(confusion_matrix(y_test, forest_pred))\n",
    "print('/n')\n",
    "print(classification_report(y_test, forest_pred))"
   ]
  },
  {
   "cell_type": "code",
   "execution_count": null,
   "metadata": {},
   "outputs": [],
   "source": []
  }
 ],
 "metadata": {
  "kernelspec": {
   "display_name": "Python 3",
   "language": "python",
   "name": "python3"
  },
  "language_info": {
   "codemirror_mode": {
    "name": "ipython",
    "version": 3
   },
   "file_extension": ".py",
   "mimetype": "text/x-python",
   "name": "python",
   "nbconvert_exporter": "python",
   "pygments_lexer": "ipython3",
   "version": "3.7.3"
  },
  "toc": {
   "base_numbering": 1,
   "nav_menu": {},
   "number_sections": true,
   "sideBar": true,
   "skip_h1_title": false,
   "title_cell": "Table of Contents",
   "title_sidebar": "Contents",
   "toc_cell": false,
   "toc_position": {},
   "toc_section_display": true,
   "toc_window_display": false
  },
  "varInspector": {
   "cols": {
    "lenName": 16,
    "lenType": 16,
    "lenVar": 40
   },
   "kernels_config": {
    "python": {
     "delete_cmd_postfix": "",
     "delete_cmd_prefix": "del ",
     "library": "var_list.py",
     "varRefreshCmd": "print(var_dic_list())"
    },
    "r": {
     "delete_cmd_postfix": ") ",
     "delete_cmd_prefix": "rm(",
     "library": "var_list.r",
     "varRefreshCmd": "cat(var_dic_list()) "
    }
   },
   "types_to_exclude": [
    "module",
    "function",
    "builtin_function_or_method",
    "instance",
    "_Feature"
   ],
   "window_display": false
  }
 },
 "nbformat": 4,
 "nbformat_minor": 2
}
